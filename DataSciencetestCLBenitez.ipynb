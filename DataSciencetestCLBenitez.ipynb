{
  "nbformat": 4,
  "nbformat_minor": 0,
  "metadata": {
    "colab": {
      "provenance": [],
      "authorship_tag": "ABX9TyO24gbVhRL9xJteaOV9ycqa",
      "include_colab_link": true
    },
    "kernelspec": {
      "name": "python3",
      "display_name": "Python 3"
    },
    "language_info": {
      "name": "python"
    }
  },
  "cells": [
    {
      "cell_type": "markdown",
      "metadata": {
        "id": "view-in-github",
        "colab_type": "text"
      },
      "source": [
        "<a href=\"https://colab.research.google.com/github/ClauBenitez/datasciencestest/blob/main/DataSciencetestCLBenitez.ipynb\" target=\"_parent\"><img src=\"https://colab.research.google.com/assets/colab-badge.svg\" alt=\"Open In Colab\"/></a>"
      ]
    },
    {
      "cell_type": "markdown",
      "source": [
        "Importar Bases de Datos cargadas en Github\n"
      ],
      "metadata": {
        "id": "2vnb0L74oXIW"
      }
    },
    {
      "cell_type": "code",
      "execution_count": 15,
      "metadata": {
        "id": "InNY2ASzXYeq"
      },
      "outputs": [],
      "source": [
        "##Importar Bases de datos\n",
        "##\n",
        "import pandas as pd\n",
        "red_wine = pd.read_csv(\"https://raw.githubusercontent.com/ClauBenitez/datasciencestest/refs/heads/main/winequality-red.csv\")\n",
        "white_wine = pd.read_csv (\"https://raw.githubusercontent.com/ClauBenitez/datasciencestest/refs/heads/main/winequality-white.csv\")"
      ]
    },
    {
      "cell_type": "markdown",
      "source": [
        "# Agregar una columna para identificar el tipo de vino"
      ],
      "metadata": {
        "id": "weppbl1hohJN"
      }
    },
    {
      "cell_type": "code",
      "source": [
        "red_wine[\"type\"] = \"red\"\n",
        "white_wine[\"type\"] = \"white\""
      ],
      "metadata": {
        "id": "YEOtB_LlorNH"
      },
      "execution_count": 16,
      "outputs": []
    },
    {
      "cell_type": "markdown",
      "source": [
        "# Unir los dos datasets"
      ],
      "metadata": {
        "id": "g5n88Ci9o6Lw"
      }
    },
    {
      "cell_type": "code",
      "source": [
        "wine_df = pd.concat([red_wine, white_wine], axis=0)"
      ],
      "metadata": {
        "id": "E_7Zin7uo7no"
      },
      "execution_count": 17,
      "outputs": []
    },
    {
      "cell_type": "markdown",
      "source": [
        " Mostrar información básica"
      ],
      "metadata": {
        "id": "9jWvjQ08pAme"
      }
    },
    {
      "cell_type": "code",
      "source": [
        "info = wine_df.info()\n",
        "missing_values = wine_df.isnull().sum()\n",
        "sample = wine_df.head()\n",
        "\n",
        "info, missing_values, sample"
      ],
      "metadata": {
        "colab": {
          "base_uri": "https://localhost:8080/"
        },
        "collapsed": true,
        "id": "LnWutWmvpFlW",
        "outputId": "74f8e327-c2a0-4ab2-92a2-715336c16cd3"
      },
      "execution_count": 18,
      "outputs": [
        {
          "output_type": "stream",
          "name": "stdout",
          "text": [
            "<class 'pandas.core.frame.DataFrame'>\n",
            "Index: 6497 entries, 0 to 4897\n",
            "Data columns (total 2 columns):\n",
            " #   Column                                                                                                                                                                   Non-Null Count  Dtype \n",
            "---  ------                                                                                                                                                                   --------------  ----- \n",
            " 0   fixed acidity;\"volatile acidity\";\"citric acid\";\"residual sugar\";\"chlorides\";\"free sulfur dioxide\";\"total sulfur dioxide\";\"density\";\"pH\";\"sulphates\";\"alcohol\";\"quality\"  6497 non-null   object\n",
            " 1   type                                                                                                                                                                     6497 non-null   object\n",
            "dtypes: object(2)\n",
            "memory usage: 152.3+ KB\n"
          ]
        },
        {
          "output_type": "execute_result",
          "data": {
            "text/plain": [
              "(None,\n",
              " fixed acidity;\"volatile acidity\";\"citric acid\";\"residual sugar\";\"chlorides\";\"free sulfur dioxide\";\"total sulfur dioxide\";\"density\";\"pH\";\"sulphates\";\"alcohol\";\"quality\"    0\n",
              " type                                                                                                                                                                       0\n",
              " dtype: int64,\n",
              "   fixed acidity;\"volatile acidity\";\"citric acid\";\"residual sugar\";\"chlorides\";\"free sulfur dioxide\";\"total sulfur dioxide\";\"density\";\"pH\";\"sulphates\";\"alcohol\";\"quality\"  \\\n",
              " 0   7.4;0.7;0;1.9;0.076;11;34;0.9978;3.51;0.56;9.4;5                                                                                                                        \n",
              " 1   7.8;0.88;0;2.6;0.098;25;67;0.9968;3.2;0.68;9.8;5                                                                                                                        \n",
              " 2  7.8;0.76;0.04;2.3;0.092;15;54;0.997;3.26;0.65;...                                                                                                                        \n",
              " 3  11.2;0.28;0.56;1.9;0.075;17;60;0.998;3.16;0.58...                                                                                                                        \n",
              " 4   7.4;0.7;0;1.9;0.076;11;34;0.9978;3.51;0.56;9.4;5                                                                                                                        \n",
              " \n",
              "   type  \n",
              " 0  red  \n",
              " 1  red  \n",
              " 2  red  \n",
              " 3  red  \n",
              " 4  red  )"
            ]
          },
          "metadata": {},
          "execution_count": 18
        }
      ]
    }
  ]
}